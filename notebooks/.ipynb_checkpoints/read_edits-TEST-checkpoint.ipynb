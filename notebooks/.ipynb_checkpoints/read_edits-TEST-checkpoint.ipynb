{
 "cells": [
  {
   "cell_type": "markdown",
   "metadata": {},
   "source": [
    "Takes in .AWD, sleep log if it exists, calendar, and spits out some pretty pictures"
   ]
  },
  {
   "cell_type": "code",
   "execution_count": 217,
   "metadata": {
    "scrolled": true
   },
   "outputs": [],
   "source": [
    "import os,sys,inspect\n",
    "current_dir = os.path.dirname(os.path.abspath(inspect.getfile(inspect.currentframe())))\n",
    "parent_dir = os.path.dirname(current_dir)\n",
    "sys.path.insert(0, '/data/MoodGroup/actigraphy/gavi/actigraPy') \n",
    "\n",
    "import actigraPy.actigraPy as act\n",
    "import importlib\n",
    "import numpy as np\n",
    "import pandas as pd\n",
    "from datetime import datetime\n",
    "from datetime import timedelta"
   ]
  },
  {
   "cell_type": "code",
   "execution_count": 218,
   "metadata": {},
   "outputs": [],
   "source": [
    "# data and log directories\n",
    "sub = 'TEST' #subject NUMBER as STRING\n",
    "sub_long = 'TEST'\n",
    "\n",
    "out_dir = '/data/MoodGroup/actigraphy/gavi/actigraPy/data/output' #output directory\n",
    "data_dir = '/data/MoodGroup/actigraphy/gavi/actigraPy/data'\n",
    "\n",
    "if not os.path.exists(out_dir):\n",
    "    os.mkdir(out_dir)\n"
   ]
  },
  {
   "cell_type": "markdown",
   "metadata": {},
   "source": [
    "## Subject and directory info"
   ]
  },
  {
   "cell_type": "code",
   "execution_count": 221,
   "metadata": {},
   "outputs": [
    {
     "name": "stdout",
     "output_type": "stream",
     "text": [
      "TEST has cal file at /data/MoodGroup/actigraphy/gavi/actigraPy/data/TEST_calendar_log.xls\n",
      "TEST has log file at /data/MoodGroup/actigraphy/gavi/actigraPy/data/TEST_sleeplog.xls\n"
     ]
    }
   ],
   "source": [
    "fn = {}\n",
    "#.AWD\n",
    "awd_fn = os.path.join(data_dir, sub_long+'.AWD')\n",
    "#sleeplog\n",
    "fn['cal']= os.path.join(data_dir, sub_long + '_calendar_log.xls')\n",
    "#calendar\n",
    "fn['log'] = os.path.join(data_dir, sub_long+'_sleeplog.xls')\n",
    "logs = []\n",
    "Mtimes_fn = os.path.join(out_dir,sub_long+'_Mtimes_edit.csv')\n",
    "\n",
    "if os.path.isfile(awd_fn):\n",
    "    for name in fn.keys():\n",
    "        if os.path.isfile(fn[name]):\n",
    "            print(\"%s has %s file at %s\"%(sub,name,fn[name]))\n",
    "            logs.append(fn[name])\n",
    "        else:\n",
    "            print(\"no \" + name)\n",
    "            fn[name] = ''\n",
    "else:\n",
    "    print(\"DO NOT CONTINUE!! THERE IS NO AWD FILE\")"
   ]
  },
  {
   "cell_type": "markdown",
   "metadata": {},
   "source": [
    "### Read Mtimes file"
   ]
  },
  {
   "cell_type": "markdown",
   "metadata": {},
   "source": [
    "Figure out where to clip awd file (for plotting purposes)"
   ]
  },
  {
   "cell_type": "code",
   "execution_count": 224,
   "metadata": {
    "scrolled": true
   },
   "outputs": [
    {
     "name": "stdout",
     "output_type": "stream",
     "text": [
      "     OffDate   OffTime     OnDate    OnTime                Comment\n",
      "0        NaT       NaN 2016-02-08  10:00:00                  start\n",
      "1 2016-02-07  13:00:00 2016-02-07  14:30:00  Fake, for bug testing\n",
      "2 2016-02-08  13:00:00 2016-02-08  14:30:00                     3T\n",
      "3 2016-02-08  21:30:00 2016-02-09  07:00:00            Sleep study\n",
      "4 2016-02-09  14:00:00 2016-02-09  16:00:00                     7T\n",
      "5 2016-02-10  10:00:00 2016-02-10  12:00:00                    NaN\n",
      "6 2016-02-10  21:30:00 2016-02-11  07:00:00            Sleep study\n",
      "7 2016-02-11  09:00:00 2016-02-11  09:40:00               Infusion\n",
      "8 2016-02-11  15:00:00 2016-02-11  17:00:00                    MEG\n",
      "     OffDate   OffTime     OnDate    OnTime Comment\n",
      "0        NaT       NaN 2016-02-08  15:40:00   start\n",
      "1 2016-02-09  00:42:00 2016-02-09  01:20:00  shower\n",
      "2 2016-02-09  13:45:00 2016-02-09  16:35:00  7T MRI\n",
      "3 2016-02-09  23:25:00 2016-02-10  00:05:00  shower\n",
      "4 2016-02-10  19:15:00 2016-02-10  20:07:00  shower\n",
      "5 2016-02-11  15:00:00 2016-02-11  17:00:00     MEG\n"
     ]
    },
    {
     "data": {
      "text/plain": [
       "{'start': [0, 144], 'end': [4741]}"
      ]
     },
     "execution_count": 224,
     "metadata": {},
     "output_type": "execute_result"
    }
   ],
   "source": [
    "#read AWD file\n",
    "awd_dat = act.read_AWD(awd_fn)\n",
    "idx={'start':[0],'end':[len(awd_dat['dt_list'])-1]}\n",
    "#get the start and stops from each log if they exist\n",
    "for log in logs:\n",
    "    _, kw_dat= act.read_log(log,awd_dat)\n",
    "    \n",
    "    if 'watch_on' in kw_dat.keys():\n",
    "        on_date = kw_dat['watch_on'].iloc[0]['OnDate']\n",
    "        on_time = kw_dat['watch_on'].iloc[0]['OnTime']\n",
    "        on = datetime(on_date.year,on_date.month,on_date.day,on_time.hour,on_time.minute)\n",
    "        #check if that time is in dt_list:\n",
    "        if awd_dat['dt_list'].count(on) > 0:\n",
    "            on_idx=awd_dat['dt_list'].index(on)\n",
    "            idx['start'].append(on_idx)\n",
    "\n",
    "    if 'watch_off' in kw_dat.keys():\n",
    "        off_date = kw_dat['watch_off'].iloc[0]['OffDate']\n",
    "        off_time = kw_dat['watch_off'].iloc[0]['OffTime']\n",
    "        off = datetime(off_date.year,off_date.month,off_date.day,off_time.hour,off_time.minute)\n",
    "        if awd_dat['dt_list'].count(off) > 0:\n",
    "            off_idx=awd_dat['dt_list'].index(off)\n",
    "            idx['end'].append(off_idx)\n",
    " \n",
    "idx"
   ]
  },
  {
   "cell_type": "markdown",
   "metadata": {},
   "source": [
    "## <font color='red'>This part needs user input! Use your judgment to decide which starts and ends from above to go with</font>\n"
   ]
  },
  {
   "cell_type": "code",
   "execution_count": 225,
   "metadata": {},
   "outputs": [
    {
     "name": "stdout",
     "output_type": "stream",
     "text": [
      "start = 144, end = 4741\n"
     ]
    }
   ],
   "source": [
    "start = max(idx['start'])\n",
    "end = min(idx['end'])\n",
    "print('start = %d, end = %d'%(start,end))"
   ]
  },
  {
   "cell_type": "code",
   "execution_count": 226,
   "metadata": {},
   "outputs": [],
   "source": [
    "#modify these according to output from above!!\n",
    "#start =0\n",
    "#end = 45283\n",
    "lim_tup = [(awd_dat['DateTime'][start],awd_dat['DateTime'][end],\"\")]\n",
    "clip_dat = act.clip_dat(lim,awd_dat)"
   ]
  },
  {
   "cell_type": "markdown",
   "metadata": {},
   "source": [
    "## Now just run these cells in order to extract comments and write dat/JSON"
   ]
  },
  {
   "cell_type": "code",
   "execution_count": 227,
   "metadata": {
    "scrolled": true
   },
   "outputs": [
    {
     "name": "stdout",
     "output_type": "stream",
     "text": [
      "       OnDate    OnTime    OffDate   OffTime marker      Comment\n",
      "0   08-Feb-16  01:16 PM  08-Feb-16  02:30 PM    cal           3T\n",
      "1   08-Feb-16  01:16 PM  08-Feb-16  02:35 PM      z             \n",
      "2   08-Feb-16  02:43 PM  08-Feb-16  03:31 PM      z             \n",
      "3   08-Feb-16  03:49 PM  08-Feb-16  04:01 PM      z             \n",
      "4   08-Feb-16  04:51 PM  08-Feb-16  05:03 PM      z             \n",
      "5   08-Feb-16  06:35 PM  08-Feb-16  07:03 PM      z             \n",
      "6   08-Feb-16  07:07 PM  08-Feb-16  07:45 PM      z             \n",
      "7   08-Feb-16  09:30 PM  09-Feb-16  07:00 AM    cal  Sleep study\n",
      "8   08-Feb-16  10:05 PM  08-Feb-16  10:23 PM      z             \n",
      "9   08-Feb-16  10:29 PM  08-Feb-16  10:45 PM      z             \n",
      "10  09-Feb-16  12:42 AM  09-Feb-16  01:20 AM    log       shower\n",
      "11  09-Feb-16  12:47 AM  09-Feb-16  01:25 AM      z             \n",
      "12  09-Feb-16  01:47 AM  09-Feb-16  08:35 AM      z             \n",
      "13  09-Feb-16  09:13 AM  09-Feb-16  09:27 AM      z             \n",
      "14  09-Feb-16  10:49 AM  09-Feb-16  11:09 AM      z             \n",
      "15  09-Feb-16  11:15 AM  09-Feb-16  11:35 AM      z             \n",
      "16  09-Feb-16  01:38 PM  09-Feb-16  01:46 PM      m             \n",
      "17  09-Feb-16  01:45 PM  09-Feb-16  04:35 PM    log       7T MRI\n",
      "18  09-Feb-16  01:45 PM  09-Feb-16  04:35 PM      g         TEST\n",
      "19  09-Feb-16  01:49 PM  09-Feb-16  04:37 PM      z             \n",
      "20  09-Feb-16  01:51 PM  09-Feb-16  04:39 PM      m             \n",
      "21  09-Feb-16  02:00 PM  09-Feb-16  04:00 PM    cal           7T\n",
      "22  09-Feb-16  08:35 PM  09-Feb-16  09:01 PM      z             \n",
      "23  09-Feb-16  11:25 PM  10-Feb-16  12:05 AM    log       shower\n",
      "24  09-Feb-16  11:31 PM  10-Feb-16  12:07 AM      z             \n",
      "25  09-Feb-16  11:32 PM  10-Feb-16  12:09 AM      m             \n",
      "26  10-Feb-16  12:43 AM  10-Feb-16  01:11 AM      z             \n",
      "27  10-Feb-16  01:17 AM  10-Feb-16  07:47 AM      z             \n",
      "28  10-Feb-16  07:53 AM  10-Feb-16  08:29 AM      z             \n",
      "29  10-Feb-16  08:35 AM  10-Feb-16  09:27 AM      z             \n",
      "30  10-Feb-16  10:00 AM  10-Feb-16  12:00 PM    cal             \n",
      "31  10-Feb-16  10:39 AM  10-Feb-16  11:45 AM      z             \n",
      "32  10-Feb-16  03:07 PM  10-Feb-16  03:23 PM      z             \n",
      "33  10-Feb-16  03:45 PM  10-Feb-16  03:59 PM      z             \n",
      "34  10-Feb-16  04:07 PM  10-Feb-16  04:49 PM      z             \n",
      "35  10-Feb-16  07:15 PM  10-Feb-16  08:07 PM    log       shower\n",
      "36  10-Feb-16  07:17 PM  10-Feb-16  08:09 PM      z             \n",
      "37  10-Feb-16  07:19 PM  10-Feb-16  08:10 PM      m             \n",
      "38  10-Feb-16  08:17 PM  10-Feb-16  08:37 PM      z             \n",
      "39  10-Feb-16  09:30 PM  11-Feb-16  07:00 AM    cal  Sleep study\n",
      "40  10-Feb-16  09:37 PM  10-Feb-16  09:49 PM      z             \n",
      "41  10-Feb-16  09:57 PM  10-Feb-16  10:09 PM      z             \n",
      "42  10-Feb-16  11:07 PM  10-Feb-16  11:29 PM      z             \n",
      "43  11-Feb-16  01:23 AM  11-Feb-16  06:51 AM      z             \n",
      "44  11-Feb-16  06:57 AM  11-Feb-16  07:11 AM      z             \n",
      "45  11-Feb-16  08:01 AM  11-Feb-16  08:35 AM      z             \n",
      "46  11-Feb-16  08:43 AM  11-Feb-16  08:59 AM      z             \n",
      "47  11-Feb-16  09:00 AM  11-Feb-16  09:40 AM    cal     Infusion\n",
      "48  11-Feb-16  09:05 AM  11-Feb-16  09:19 AM      z             \n",
      "49  11-Feb-16  09:31 AM  11-Feb-16  10:53 AM      z             \n",
      "50  11-Feb-16  11:55 AM  11-Feb-16  12:09 PM      z             \n",
      "51  11-Feb-16  12:39 PM  11-Feb-16  12:57 PM      z             \n",
      "52  11-Feb-16  02:17 PM  11-Feb-16  02:43 PM      z             \n",
      "53  11-Feb-16  03:00 PM  11-Feb-16  05:00 PM    cal          MEG\n",
      "54  11-Feb-16  03:00 PM  11-Feb-16  05:00 PM    log          MEG\n",
      "55  11-Feb-16  03:01 PM  11-Feb-16  04:25 PM      z             \n",
      "56  11-Feb-16  07:15 PM  11-Feb-16  07:29 PM      z             \n",
      "57  11-Feb-16  07:51 PM  11-Feb-16  08:03 PM      z             \n"
     ]
    }
   ],
   "source": [
    "importlib.reload(act)\n",
    "log_dat,kw_dat=act.read_log(Mtimes_fn,awd_dat)"
   ]
  },
  {
   "cell_type": "code",
   "execution_count": 228,
   "metadata": {},
   "outputs": [],
   "source": [
    "importlib.reload(act)\n",
    "dat = act.write_dat(awd_dat,mk_idx,os.path.join(out_dir,sub_long))"
   ]
  },
  {
   "cell_type": "markdown",
   "metadata": {},
   "source": [
    "## Make graphs"
   ]
  },
  {
   "cell_type": "code",
   "execution_count": 229,
   "metadata": {},
   "outputs": [],
   "source": [
    "wanted_plots=['g']\n",
    "plots = {}\n",
    "for name in wanted_plots:\n",
    "    if name in mk_idx.keys():\n",
    "        plots[name]=mk_idx[name]"
   ]
  },
  {
   "cell_type": "code",
   "execution_count": 230,
   "metadata": {},
   "outputs": [
    {
     "name": "stdout",
     "output_type": "stream",
     "text": [
      "4\n",
      "08-Feb-16\n",
      "0 643\n",
      "09-Feb-16\n",
      "644 2083\n",
      "plotting: 825,995 from g\n",
      "10-Feb-16\n",
      "2084 3523\n",
      "11-Feb-16\n",
      "3524 4741\n",
      "Saving... /data/MoodGroup/actigraphy/gavi/actigraPy/data/output/TEST_M+edits.png\n",
      "Done\n"
     ]
    },
    {
     "data": {
      "image/png": "[encoded data removed]",
      "text/plain": [
       "<Figure size 432x576 with 4 Axes>"
      ]
     },
     "metadata": {},
     "output_type": "display_data"
    }
   ],
   "source": [
    "importlib.reload(act)\n",
    "\n",
    "act.plot_awd(awd_dat,plots,max_act=500,show=False,fn_pref=os.path.join(out_dir,sub+'_M+edits'),plot_type='single',debug=True)\n"
   ]
  }
 ],
 "metadata": {
  "kernelspec": {
   "display_name": "Python 3",
   "language": "python",
   "name": "python3"
  },
  "language_info": {
   "codemirror_mode": {
    "name": "ipython",
    "version": 3
   },
   "file_extension": ".py",
   "mimetype": "text/x-python",
   "name": "python",
   "nbconvert_exporter": "python",
   "pygments_lexer": "ipython3",
   "version": "3.6.8"
  }
 },
 "nbformat": 4,
 "nbformat_minor": 2
}
