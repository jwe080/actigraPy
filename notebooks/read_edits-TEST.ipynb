{
 "cells": [
  {
   "cell_type": "markdown",
   "metadata": {},
   "source": [
    "Takes in .AWD, sleep log if it exists, calendar, and spits out some pretty pictures"
   ]
  },
  {
   "cell_type": "code",
   "execution_count": 1,
   "metadata": {
    "scrolled": true
   },
   "outputs": [
    {
     "name": "stderr",
     "output_type": "stream",
     "text": [
      "/data/MoodGroup/actigraphy/gavi/actigraPy/actigraPy/actigraPy.py:23: MatplotlibDeprecationWarning: \n",
      "The matplotlib.backends.tkagg module was deprecated in Matplotlib 3.0 and will be removed in 3.2.\n",
      "  import matplotlib.backends.tkagg as tkagg\n"
     ]
    }
   ],
   "source": [
    "import os,sys,inspect\n",
    "current_dir = os.path.dirname(os.path.abspath(inspect.getfile(inspect.currentframe())))\n",
    "parent_dir = os.path.dirname(current_dir)\n",
    "sys.path.insert(0, '/data/MoodGroup/actigraphy/gavi/actigraPy') \n",
    "\n",
    "import actigraPy.actigraPy as act\n",
    "import importlib\n",
    "import numpy as np\n",
    "import pandas as pd\n",
    "from datetime import datetime\n",
    "from datetime import timedelta"
   ]
  },
  {
   "cell_type": "code",
   "execution_count": 2,
   "metadata": {},
   "outputs": [],
   "source": [
    "# data and log directories\n",
    "sub = 'TEST' #subject NUMBER as STRING\n",
    "sub_long = 'TEST'\n",
    "\n",
    "out_dir = '/data/MoodGroup/actigraphy/gavi/actigraPy/data/output' #output directory\n",
    "data_dir = '/data/MoodGroup/actigraphy/gavi/actigraPy/data'\n",
    "\n",
    "if not os.path.exists(out_dir):\n",
    "    os.mkdir(out_dir)\n"
   ]
  },
  {
   "cell_type": "markdown",
   "metadata": {},
   "source": [
    "## Subject and directory info"
   ]
  },
  {
   "cell_type": "code",
   "execution_count": 3,
   "metadata": {},
   "outputs": [
    {
     "name": "stdout",
     "output_type": "stream",
     "text": [
      "TEST has cal file at /data/MoodGroup/actigraphy/gavi/actigraPy/data/TEST_calendar_log.xls\n",
      "TEST has log file at /data/MoodGroup/actigraphy/gavi/actigraPy/data/TEST_sleeplog.xls\n"
     ]
    }
   ],
   "source": [
    "fn = {}\n",
    "#.AWD\n",
    "awd_fn = os.path.join(data_dir, sub_long+'.AWD')\n",
    "#sleeplog\n",
    "fn['cal']= os.path.join(data_dir, sub_long + '_calendar_log.xls')\n",
    "#calendar\n",
    "fn['log'] = os.path.join(data_dir, sub_long+'_sleeplog.xls')\n",
    "logs = []\n",
    "Mtimes_fn = os.path.join(out_dir,sub_long+'_Mtimes_edit.csv')\n",
    "\n",
    "if os.path.isfile(awd_fn):\n",
    "    for name in fn.keys():\n",
    "        if os.path.isfile(fn[name]):\n",
    "            print(\"%s has %s file at %s\"%(sub,name,fn[name]))\n",
    "            logs.append(fn[name])\n",
    "        else:\n",
    "            print(\"no \" + name)\n",
    "            fn[name] = ''\n",
    "else:\n",
    "    print(\"DO NOT CONTINUE!! THERE IS NO AWD FILE\")"
   ]
  },
  {
   "cell_type": "markdown",
   "metadata": {},
   "source": [
    "### Read Mtimes file"
   ]
  },
  {
   "cell_type": "markdown",
   "metadata": {},
   "source": [
    "Figure out where to clip awd file (for plotting purposes)"
   ]
  },
  {
   "cell_type": "code",
   "execution_count": 4,
   "metadata": {
    "scrolled": true
   },
   "outputs": [
    {
     "name": "stdout",
     "output_type": "stream",
     "text": [
      "     OffDate   OffTime     OnDate    OnTime                Comment\n",
      "0        NaT       NaN 2016-02-08  10:00:00                  start\n",
      "1 2016-02-07  13:00:00 2016-02-07  14:30:00  Fake, for bug testing\n",
      "2 2016-02-08  13:00:00 2016-02-08  14:30:00                     3T\n",
      "3 2016-02-08  21:30:00 2016-02-09  07:00:00            Sleep study\n",
      "4 2016-02-09  14:00:00 2016-02-09  16:00:00                     7T\n",
      "5 2016-02-10  10:00:00 2016-02-10  12:00:00                    NaN\n",
      "6 2016-02-10  21:30:00 2016-02-11  07:00:00            Sleep study\n",
      "7 2016-02-11  09:00:00 2016-02-11  09:40:00               Infusion\n",
      "8 2016-02-11  15:00:00 2016-02-11  17:00:00                    MEG\n",
      "     OffDate   OffTime     OnDate    OnTime Comment\n",
      "0        NaT       NaN 2016-02-08  15:40:00   start\n",
      "1 2016-02-09  00:42:00 2016-02-09  01:20:00  shower\n",
      "2 2016-02-09  13:45:00 2016-02-09  16:35:00  7T MRI\n",
      "3 2016-02-09  23:25:00 2016-02-10  00:05:00  shower\n",
      "4 2016-02-10  19:15:00 2016-02-10  20:07:00  shower\n",
      "5 2016-02-11  15:00:00 2016-02-11  17:00:00     MEG\n"
     ]
    },
    {
     "data": {
      "text/plain": [
       "{'start': [0, 144], 'end': [4741]}"
      ]
     },
     "execution_count": 4,
     "metadata": {},
     "output_type": "execute_result"
    }
   ],
   "source": [
    "#read AWD file\n",
    "awd_dat = act.read_AWD(awd_fn)\n",
    "idx={'start':[0],'end':[len(awd_dat['dt_list'])-1]}\n",
    "#get the start and stops from each log if they exist\n",
    "for log in logs:\n",
    "    _, kw_dat= act.read_log(log,awd_dat)\n",
    "    \n",
    "    if 'watch_on' in kw_dat.keys():\n",
    "        on_date = kw_dat['watch_on'].iloc[0]['OnDate']\n",
    "        on_time = kw_dat['watch_on'].iloc[0]['OnTime']\n",
    "        on = datetime(on_date.year,on_date.month,on_date.day,on_time.hour,on_time.minute)\n",
    "        #check if that time is in dt_list:\n",
    "        if awd_dat['dt_list'].count(on) > 0:\n",
    "            on_idx=awd_dat['dt_list'].index(on)\n",
    "            idx['start'].append(on_idx)\n",
    "\n",
    "    if 'watch_off' in kw_dat.keys():\n",
    "        off_date = kw_dat['watch_off'].iloc[0]['OffDate']\n",
    "        off_time = kw_dat['watch_off'].iloc[0]['OffTime']\n",
    "        off = datetime(off_date.year,off_date.month,off_date.day,off_time.hour,off_time.minute)\n",
    "        if awd_dat['dt_list'].count(off) > 0:\n",
    "            off_idx=awd_dat['dt_list'].index(off)\n",
    "            idx['end'].append(off_idx)\n",
    " \n",
    "idx"
   ]
  },
  {
   "cell_type": "markdown",
   "metadata": {},
   "source": [
    "## <font color='red'>This part needs user input! Use your judgment to decide which starts and ends from above to go with</font>\n"
   ]
  },
  {
   "cell_type": "code",
   "execution_count": 5,
   "metadata": {},
   "outputs": [
    {
     "name": "stdout",
     "output_type": "stream",
     "text": [
      "start = 144, end = 4741\n"
     ]
    }
   ],
   "source": [
    "start = max(idx['start'])\n",
    "end = min(idx['end'])\n",
    "print('start = %d, end = %d'%(start,end))"
   ]
  },
  {
   "cell_type": "code",
   "execution_count": 6,
   "metadata": {},
   "outputs": [
    {
     "ename": "NameError",
     "evalue": "name 'lim' is not defined",
     "output_type": "error",
     "traceback": [
      "\u001b[0;31m---------------------------------------------------------------------------\u001b[0m",
      "\u001b[0;31mNameError\u001b[0m                                 Traceback (most recent call last)",
      "\u001b[0;32m<ipython-input-6-684aae778e88>\u001b[0m in \u001b[0;36m<module>\u001b[0;34m\u001b[0m\n\u001b[1;32m      3\u001b[0m \u001b[0;31m#end = 45283\u001b[0m\u001b[0;34m\u001b[0m\u001b[0;34m\u001b[0m\u001b[0;34m\u001b[0m\u001b[0m\n\u001b[1;32m      4\u001b[0m \u001b[0mlim_tup\u001b[0m \u001b[0;34m=\u001b[0m \u001b[0;34m[\u001b[0m\u001b[0;34m(\u001b[0m\u001b[0mawd_dat\u001b[0m\u001b[0;34m[\u001b[0m\u001b[0;34m'DateTime'\u001b[0m\u001b[0;34m]\u001b[0m\u001b[0;34m[\u001b[0m\u001b[0mstart\u001b[0m\u001b[0;34m]\u001b[0m\u001b[0;34m,\u001b[0m\u001b[0mawd_dat\u001b[0m\u001b[0;34m[\u001b[0m\u001b[0;34m'DateTime'\u001b[0m\u001b[0;34m]\u001b[0m\u001b[0;34m[\u001b[0m\u001b[0mend\u001b[0m\u001b[0;34m]\u001b[0m\u001b[0;34m,\u001b[0m\u001b[0;34m\"\"\u001b[0m\u001b[0;34m)\u001b[0m\u001b[0;34m]\u001b[0m\u001b[0;34m\u001b[0m\u001b[0;34m\u001b[0m\u001b[0m\n\u001b[0;32m----> 5\u001b[0;31m \u001b[0mclip_dat\u001b[0m \u001b[0;34m=\u001b[0m \u001b[0mact\u001b[0m\u001b[0;34m.\u001b[0m\u001b[0mclip_dat\u001b[0m\u001b[0;34m(\u001b[0m\u001b[0mlim\u001b[0m\u001b[0;34m,\u001b[0m\u001b[0mawd_dat\u001b[0m\u001b[0;34m)\u001b[0m\u001b[0;34m\u001b[0m\u001b[0;34m\u001b[0m\u001b[0m\n\u001b[0m",
      "\u001b[0;31mNameError\u001b[0m: name 'lim' is not defined"
     ]
    }
   ],
   "source": [
    "#modify these according to output from above!!\n",
    "#start =0\n",
    "#end = 45283\n",
    "lim_tup = [(awd_dat['DateTime'][start],awd_dat['DateTime'][end],\"\")]\n",
    "clip_dat = act.clip_dat(lim,awd_dat)"
   ]
  },
  {
   "cell_type": "markdown",
   "metadata": {},
   "source": [
    "## Now just run these cells in order to extract comments and write dat/JSON"
   ]
  },
  {
   "cell_type": "code",
   "execution_count": null,
   "metadata": {
    "scrolled": true
   },
   "outputs": [],
   "source": [
    "importlib.reload(act)\n",
    "log_dat,kw_dat=act.read_log(Mtimes_fn,awd_dat)"
   ]
  },
  {
   "cell_type": "code",
   "execution_count": null,
   "metadata": {},
   "outputs": [],
   "source": [
    "importlib.reload(act)\n",
    "dat = act.write_dat(awd_dat,mk_idx,os.path.join(out_dir,sub_long))"
   ]
  },
  {
   "cell_type": "markdown",
   "metadata": {},
   "source": [
    "## Make graphs"
   ]
  },
  {
   "cell_type": "code",
   "execution_count": null,
   "metadata": {},
   "outputs": [],
   "source": [
    "wanted_plots=['g']\n",
    "plots = {}\n",
    "for name in wanted_plots:\n",
    "    if name in mk_idx.keys():\n",
    "        plots[name]=mk_idx[name]"
   ]
  },
  {
   "cell_type": "code",
   "execution_count": null,
   "metadata": {},
   "outputs": [],
   "source": [
    "importlib.reload(act)\n",
    "\n",
    "act.plot_awd(awd_dat,plots,max_act=500,show=False,fn_pref=os.path.join(out_dir,sub+'_M+edits'),plot_type='single',debug=True)\n"
   ]
  }
 ],
 "metadata": {
  "kernelspec": {
   "display_name": "Python 3",
   "language": "python",
   "name": "python3"
  },
  "language_info": {
   "codemirror_mode": {
    "name": "ipython",
    "version": 3
   },
   "file_extension": ".py",
   "mimetype": "text/x-python",
   "name": "python",
   "nbconvert_exporter": "python",
   "pygments_lexer": "ipython3",
   "version": "3.6.8"
  }
 },
 "nbformat": 4,
 "nbformat_minor": 2
}
